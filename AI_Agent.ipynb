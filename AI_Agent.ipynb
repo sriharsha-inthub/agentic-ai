{
  "nbformat": 4,
  "nbformat_minor": 0,
  "metadata": {
    "colab": {
      "provenance": [],
      "authorship_tag": "ABX9TyMOEV1bB0ADYgrEuRxJ9QND",
      "include_colab_link": true
    },
    "kernelspec": {
      "name": "python3",
      "display_name": "Python 3"
    },
    "language_info": {
      "name": "python"
    }
  },
  "cells": [
    {
      "cell_type": "markdown",
      "metadata": {
        "id": "view-in-github",
        "colab_type": "text"
      },
      "source": [
        "<a href=\"https://colab.research.google.com/github/sriharsha-inthub/agentic-ai/blob/main/AI_Agent.ipynb\" target=\"_parent\"><img src=\"https://colab.research.google.com/assets/colab-badge.svg\" alt=\"Open In Colab\"/></a>"
      ]
    },
    {
      "cell_type": "code",
      "source": [],
      "metadata": {
        "id": "GrBJHfm6DMOU"
      },
      "execution_count": null,
      "outputs": []
    },
    {
      "cell_type": "code",
      "source": [
        "!uv sync"
      ],
      "metadata": {
        "colab": {
          "base_uri": "https://localhost:8080/"
        },
        "id": "Y4N5ReMPFnXw",
        "outputId": "0a9daf98-47a9-4a7c-90ab-c99b784facc4"
      },
      "execution_count": 14,
      "outputs": [
        {
          "output_type": "stream",
          "name": "stdout",
          "text": [
            "\u001b[2mResolved \u001b[1m218 packages\u001b[0m \u001b[2min 1ms\u001b[0m\u001b[0m\n",
            "\u001b[2mAudited \u001b[1m214 packages\u001b[0m \u001b[2min 0.15ms\u001b[0m\u001b[0m\n"
          ]
        }
      ]
    },
    {
      "cell_type": "code",
      "source": [
        "!pip install dotenv openai openai-agents"
      ],
      "metadata": {
        "colab": {
          "base_uri": "https://localhost:8080/"
        },
        "id": "jYaTH0AVGU6P",
        "outputId": "35be1715-83db-4ad1-f228-42b56712b58c"
      },
      "execution_count": 13,
      "outputs": [
        {
          "output_type": "stream",
          "name": "stdout",
          "text": [
            "Requirement already satisfied: dotenv in /usr/local/lib/python3.11/dist-packages (0.9.9)\n",
            "Requirement already satisfied: openai in /usr/local/lib/python3.11/dist-packages (1.93.0)\n",
            "Requirement already satisfied: openai-agents in /usr/local/lib/python3.11/dist-packages (0.1.0)\n",
            "Requirement already satisfied: python-dotenv in /usr/local/lib/python3.11/dist-packages (from dotenv) (1.1.1)\n",
            "Requirement already satisfied: anyio<5,>=3.5.0 in /usr/local/lib/python3.11/dist-packages (from openai) (4.9.0)\n",
            "Requirement already satisfied: distro<2,>=1.7.0 in /usr/local/lib/python3.11/dist-packages (from openai) (1.9.0)\n",
            "Requirement already satisfied: httpx<1,>=0.23.0 in /usr/local/lib/python3.11/dist-packages (from openai) (0.28.1)\n",
            "Requirement already satisfied: jiter<1,>=0.4.0 in /usr/local/lib/python3.11/dist-packages (from openai) (0.10.0)\n",
            "Requirement already satisfied: pydantic<3,>=1.9.0 in /usr/local/lib/python3.11/dist-packages (from openai) (2.11.7)\n",
            "Requirement already satisfied: sniffio in /usr/local/lib/python3.11/dist-packages (from openai) (1.3.1)\n",
            "Requirement already satisfied: tqdm>4 in /usr/local/lib/python3.11/dist-packages (from openai) (4.67.1)\n",
            "Requirement already satisfied: typing-extensions<5,>=4.11 in /usr/local/lib/python3.11/dist-packages (from openai) (4.14.1)\n",
            "Requirement already satisfied: griffe<2,>=1.5.6 in /usr/local/lib/python3.11/dist-packages (from openai-agents) (1.7.3)\n",
            "Requirement already satisfied: mcp<2,>=1.9.4 in /usr/local/lib/python3.11/dist-packages (from openai-agents) (1.10.1)\n",
            "Requirement already satisfied: requests<3,>=2.0 in /usr/local/lib/python3.11/dist-packages (from openai-agents) (2.32.3)\n",
            "Requirement already satisfied: types-requests<3,>=2.0 in /usr/local/lib/python3.11/dist-packages (from openai-agents) (2.32.4.20250611)\n",
            "Requirement already satisfied: idna>=2.8 in /usr/local/lib/python3.11/dist-packages (from anyio<5,>=3.5.0->openai) (3.10)\n",
            "Requirement already satisfied: colorama>=0.4 in /usr/local/lib/python3.11/dist-packages (from griffe<2,>=1.5.6->openai-agents) (0.4.6)\n",
            "Requirement already satisfied: certifi in /usr/local/lib/python3.11/dist-packages (from httpx<1,>=0.23.0->openai) (2025.6.15)\n",
            "Requirement already satisfied: httpcore==1.* in /usr/local/lib/python3.11/dist-packages (from httpx<1,>=0.23.0->openai) (1.0.9)\n",
            "Requirement already satisfied: h11>=0.16 in /usr/local/lib/python3.11/dist-packages (from httpcore==1.*->httpx<1,>=0.23.0->openai) (0.16.0)\n",
            "Requirement already satisfied: httpx-sse>=0.4 in /usr/local/lib/python3.11/dist-packages (from mcp<2,>=1.9.4->openai-agents) (0.4.1)\n",
            "Requirement already satisfied: jsonschema>=4.20.0 in /usr/local/lib/python3.11/dist-packages (from mcp<2,>=1.9.4->openai-agents) (4.24.0)\n",
            "Requirement already satisfied: pydantic-settings>=2.5.2 in /usr/local/lib/python3.11/dist-packages (from mcp<2,>=1.9.4->openai-agents) (2.10.1)\n",
            "Requirement already satisfied: python-multipart>=0.0.9 in /usr/local/lib/python3.11/dist-packages (from mcp<2,>=1.9.4->openai-agents) (0.0.20)\n",
            "Requirement already satisfied: sse-starlette>=1.6.1 in /usr/local/lib/python3.11/dist-packages (from mcp<2,>=1.9.4->openai-agents) (2.4.1)\n",
            "Requirement already satisfied: starlette>=0.27 in /usr/local/lib/python3.11/dist-packages (from mcp<2,>=1.9.4->openai-agents) (0.46.2)\n",
            "Requirement already satisfied: uvicorn>=0.23.1 in /usr/local/lib/python3.11/dist-packages (from mcp<2,>=1.9.4->openai-agents) (0.35.0)\n",
            "Requirement already satisfied: annotated-types>=0.6.0 in /usr/local/lib/python3.11/dist-packages (from pydantic<3,>=1.9.0->openai) (0.7.0)\n",
            "Requirement already satisfied: pydantic-core==2.33.2 in /usr/local/lib/python3.11/dist-packages (from pydantic<3,>=1.9.0->openai) (2.33.2)\n",
            "Requirement already satisfied: typing-inspection>=0.4.0 in /usr/local/lib/python3.11/dist-packages (from pydantic<3,>=1.9.0->openai) (0.4.1)\n",
            "Requirement already satisfied: charset-normalizer<4,>=2 in /usr/local/lib/python3.11/dist-packages (from requests<3,>=2.0->openai-agents) (3.4.2)\n",
            "Requirement already satisfied: urllib3<3,>=1.21.1 in /usr/local/lib/python3.11/dist-packages (from requests<3,>=2.0->openai-agents) (2.4.0)\n",
            "Requirement already satisfied: attrs>=22.2.0 in /usr/local/lib/python3.11/dist-packages (from jsonschema>=4.20.0->mcp<2,>=1.9.4->openai-agents) (25.3.0)\n",
            "Requirement already satisfied: jsonschema-specifications>=2023.03.6 in /usr/local/lib/python3.11/dist-packages (from jsonschema>=4.20.0->mcp<2,>=1.9.4->openai-agents) (2025.4.1)\n",
            "Requirement already satisfied: referencing>=0.28.4 in /usr/local/lib/python3.11/dist-packages (from jsonschema>=4.20.0->mcp<2,>=1.9.4->openai-agents) (0.36.2)\n",
            "Requirement already satisfied: rpds-py>=0.7.1 in /usr/local/lib/python3.11/dist-packages (from jsonschema>=4.20.0->mcp<2,>=1.9.4->openai-agents) (0.26.0)\n",
            "Requirement already satisfied: click>=7.0 in /usr/local/lib/python3.11/dist-packages (from uvicorn>=0.23.1->mcp<2,>=1.9.4->openai-agents) (8.2.1)\n"
          ]
        },
        {
          "output_type": "execute_result",
          "data": {
            "text/plain": [
              "True"
            ]
          },
          "metadata": {},
          "execution_count": 13
        }
      ]
    },
    {
      "cell_type": "code",
      "source": [
        "from dotenv import load_dotenv\n",
        "load_dotenv(override=True)"
      ],
      "metadata": {
        "colab": {
          "base_uri": "https://localhost:8080/"
        },
        "id": "511VNBj9HGjb",
        "outputId": "f0a7e977-2d2c-4ed3-d9fb-7c31b67c1ab2"
      },
      "execution_count": 16,
      "outputs": [
        {
          "output_type": "execute_result",
          "data": {
            "text/plain": [
              "True"
            ]
          },
          "metadata": {},
          "execution_count": 16
        }
      ]
    },
    {
      "cell_type": "code",
      "source": [
        "import os\n",
        "openai_api_key = os.getenv(\"OPENAI_API_KEY\")\n",
        "\n",
        "if openai_api_key is None:\n",
        "    print(\"OPENAI_API_KEY is not set\")\n",
        "else:\n",
        "    print(f\"OPENAI_API_KEY is set {openai_api_key[:15]}\")"
      ],
      "metadata": {
        "colab": {
          "base_uri": "https://localhost:8080/"
        },
        "id": "hbU08G0cHdzq",
        "outputId": "189ae0f3-bdcd-46ec-8e9b-c3f193caf514"
      },
      "execution_count": 19,
      "outputs": [
        {
          "output_type": "stream",
          "name": "stdout",
          "text": [
            "OPENAI_API_KEY is set sk-proj-z8ZMBNK\n"
          ]
        }
      ]
    },
    {
      "cell_type": "code",
      "source": [
        "!python --version\n",
        "from openai import OpenAI\n",
        "openai = OpenAI()"
      ],
      "metadata": {
        "colab": {
          "base_uri": "https://localhost:8080/"
        },
        "id": "majWTE5EG2U3",
        "outputId": "15cbf1d4-4422-4757-c231-853fc1543428"
      },
      "execution_count": 23,
      "outputs": [
        {
          "output_type": "stream",
          "name": "stdout",
          "text": [
            "Python 3.11.13\n"
          ]
        }
      ]
    },
    {
      "cell_type": "code",
      "source": [
        "messages = [{ \"role\": \"user\", \"content\": \"What is 2+2?\"}]\n",
        "response = openai.chat.completions.create(\n",
        "    model=\"gpt-4o-mini\",\n",
        "    messages=messages,\n",
        "    #stream=True\n",
        "    #temperature=0,\n",
        ")\n",
        "print(response.choices[0].message.content)"
      ],
      "metadata": {
        "colab": {
          "base_uri": "https://localhost:8080/"
        },
        "id": "4ntYFMPdIMvz",
        "outputId": "c215afc3-7701-4889-8622-394e855d06e4"
      },
      "execution_count": 26,
      "outputs": [
        {
          "output_type": "stream",
          "name": "stdout",
          "text": [
            "2 + 2 equals 4.\n"
          ]
        }
      ]
    },
    {
      "cell_type": "code",
      "source": [
        "question=\"Please propose a hard, challenging question to assess someone's IQ. Reply only with question.\"\n",
        "messages = [{ \"role\": \"user\", \"content\": question}]"
      ],
      "metadata": {
        "id": "enaza9ulI0EG"
      },
      "execution_count": 27,
      "outputs": []
    },
    {
      "cell_type": "code",
      "source": [
        "response =  openai.chat.completions.create(\n",
        "    model=\"gpt-4o-mini\",\n",
        "    messages=messages,\n",
        ")\n",
        "question = response.choices[0].message.content\n",
        "print(question)"
      ],
      "metadata": {
        "colab": {
          "base_uri": "https://localhost:8080/"
        },
        "id": "igI_SnsmJD06",
        "outputId": "3728b55d-5bc3-4d72-b241-beb81bd2c3ca"
      },
      "execution_count": 28,
      "outputs": [
        {
          "output_type": "stream",
          "name": "stdout",
          "text": [
            "If you have a 3D cube that is constructed from smaller 1x1x1 cubes, and the larger cube has a volume of 27 cubic units, how many of the smaller cubes would need to be removed so that the surface area of the remaining structure is minimized?\n"
          ]
        }
      ]
    },
    {
      "cell_type": "code",
      "source": [
        "messages = [{ \"role\": \"user\", \"content\": question}]\n",
        "response = openai.chat.completions.create(\n",
        "    model=\"gpt-4o-mini\",\n",
        "    messages=messages,\n",
        ")\n",
        "answer = response.choices[0].message.content\n",
        "print(answer)"
      ],
      "metadata": {
        "colab": {
          "base_uri": "https://localhost:8080/"
        },
        "collapsed": true,
        "id": "UOXhfIO3JQTN",
        "outputId": "c2c21ac2-02a1-41f1-de20-dbf9bd948b13"
      },
      "execution_count": 29,
      "outputs": [
        {
          "output_type": "stream",
          "name": "stdout",
          "text": [
            "To solve the problem, we start by determining the dimensions of the larger cube based on its given volume. The volume of a cube is calculated as:\n",
            "\n",
            "\\[\n",
            "V = s^3\n",
            "\\]\n",
            "\n",
            "where \\( s \\) is the side length of the cube. We're provided with a volume of 27 cubic units:\n",
            "\n",
            "\\[\n",
            "s^3 = 27\n",
            "\\]\n",
            "\n",
            "Taking the cube root of both sides, we find:\n",
            "\n",
            "\\[\n",
            "s = \\sqrt[3]{27} = 3\n",
            "\\]\n",
            "\n",
            "Thus, the side length of the larger cube is \\( s = 3 \\) units.\n",
            "\n",
            "Next, we calculate the surface area of the larger cube. The formula for the surface area \\( A \\) of a cube is:\n",
            "\n",
            "\\[\n",
            "A = 6s^2\n",
            "\\]\n",
            "\n",
            "Substituting in our value for \\( s \\):\n",
            "\n",
            "\\[\n",
            "A = 6 \\cdot (3^2) = 6 \\cdot 9 = 54 \\text{ square units}\n",
            "\\]\n",
            "\n",
            "Now, we need to consider the situation where we remove smaller cubes (1x1x1 cubes) from this larger cube. We want to minimize the surface area of the remaining structure after removing some of these smaller cubes.\n",
            "\n",
            "When a smaller cube is removed from the interior of the larger cube, the surface area of the cube increases due to the newly exposed faces of the removed cube. Each removed cube exposes 5 new square units of surface area (the cube has 6 faces, and removing it exposes 5 faces of that cube):\n",
            "\n",
            "\\[\n",
            "\\text{Surface area change when removing 1 small cube} = +5\n",
            "\\]\n",
            "\n",
            "Let's analyze this situation step by step:\n",
            "\n",
            "1. **Removing a small cube from the interior**: If we remove a cube from the interior (not from the outer surface), we lose 1 square unit of surface area from the outer surface area (the face where the cube was originally), but we add 5 square units (exposed faces of the removed cube). Hence, the net addition to the surface area is:\n",
            "\n",
            "\\[\n",
            "\\Delta A = 5 - 1 = 4 \\text{ square units}\n",
            "\\]\n",
            "\n",
            "2. **Effect of removing surface cubes**: If we remove a cube that is on the surface of the larger cube, we lose 1 square unit from the outer surface area and gain 5 square units, similar to the above cases. However, this situation still means that, overall, the removal of each cube still results in a net increase in surface area.\n",
            "\n",
            "Thus, from the analysis, if we remove just one cube, the surface area increases. Consequently, if we were to remove all 27 small cubes, the original surface area would grow significantly, thereby confirming that mass removal from the interior adds exposed area overall.\n",
            "\n",
            "3. **Minimizing Surface Area**: To minimize the surface area, we should not remove any cubes. If any cubes are taken away, they will always result in greater or equal surface area due to the net increase whenever a cube is removed.\n",
            "\n",
            "4. **Conclusion**: Thus, the minimal surface area of this larger structure is maintained by not removing any of the smaller cubes.\n",
            "\n",
            "Therefore, to minimize the surface area of the remaining structure, the answer is:\n",
            "\n",
            "\\[\n",
            "\\boxed{0}\n",
            "\\] \n",
            "\n",
            "This means we do not need to remove any smaller cubes at all to minimize the surface area of the cube.\n"
          ]
        }
      ]
    },
    {
      "cell_type": "code",
      "source": [
        "from IPython.display import display, Markdown\n",
        "display(Markdown(answer))"
      ],
      "metadata": {
        "colab": {
          "base_uri": "https://localhost:8080/",
          "height": 771
        },
        "collapsed": true,
        "id": "77bMWPFSJshP",
        "outputId": "05e35315-5879-424b-d35a-0284b61dcc1d"
      },
      "execution_count": 30,
      "outputs": [
        {
          "output_type": "display_data",
          "data": {
            "text/plain": [
              "<IPython.core.display.Markdown object>"
            ],
            "text/markdown": "To solve the problem, we start by determining the dimensions of the larger cube based on its given volume. The volume of a cube is calculated as:\n\n\\[\nV = s^3\n\\]\n\nwhere \\( s \\) is the side length of the cube. We're provided with a volume of 27 cubic units:\n\n\\[\ns^3 = 27\n\\]\n\nTaking the cube root of both sides, we find:\n\n\\[\ns = \\sqrt[3]{27} = 3\n\\]\n\nThus, the side length of the larger cube is \\( s = 3 \\) units.\n\nNext, we calculate the surface area of the larger cube. The formula for the surface area \\( A \\) of a cube is:\n\n\\[\nA = 6s^2\n\\]\n\nSubstituting in our value for \\( s \\):\n\n\\[\nA = 6 \\cdot (3^2) = 6 \\cdot 9 = 54 \\text{ square units}\n\\]\n\nNow, we need to consider the situation where we remove smaller cubes (1x1x1 cubes) from this larger cube. We want to minimize the surface area of the remaining structure after removing some of these smaller cubes.\n\nWhen a smaller cube is removed from the interior of the larger cube, the surface area of the cube increases due to the newly exposed faces of the removed cube. Each removed cube exposes 5 new square units of surface area (the cube has 6 faces, and removing it exposes 5 faces of that cube):\n\n\\[\n\\text{Surface area change when removing 1 small cube} = +5\n\\]\n\nLet's analyze this situation step by step:\n\n1. **Removing a small cube from the interior**: If we remove a cube from the interior (not from the outer surface), we lose 1 square unit of surface area from the outer surface area (the face where the cube was originally), but we add 5 square units (exposed faces of the removed cube). Hence, the net addition to the surface area is:\n\n\\[\n\\Delta A = 5 - 1 = 4 \\text{ square units}\n\\]\n\n2. **Effect of removing surface cubes**: If we remove a cube that is on the surface of the larger cube, we lose 1 square unit from the outer surface area and gain 5 square units, similar to the above cases. However, this situation still means that, overall, the removal of each cube still results in a net increase in surface area.\n\nThus, from the analysis, if we remove just one cube, the surface area increases. Consequently, if we were to remove all 27 small cubes, the original surface area would grow significantly, thereby confirming that mass removal from the interior adds exposed area overall.\n\n3. **Minimizing Surface Area**: To minimize the surface area, we should not remove any cubes. If any cubes are taken away, they will always result in greater or equal surface area due to the net increase whenever a cube is removed.\n\n4. **Conclusion**: Thus, the minimal surface area of this larger structure is maintained by not removing any of the smaller cubes.\n\nTherefore, to minimize the surface area of the remaining structure, the answer is:\n\n\\[\n\\boxed{0}\n\\] \n\nThis means we do not need to remove any smaller cubes at all to minimize the surface area of the cube."
          },
          "metadata": {}
        }
      ]
    },
    {
      "cell_type": "markdown",
      "source": [
        "# Exercise\n",
        "\n",
        "## Now try this commercial application\n",
        "\n",
        "First ask the LLM to pick a business area that might be worth exploring for an Agentic AI opportunity.<br/>\n",
        "Then ask the LLM to present a pain-point in that industry - something challenging that might be ripe for an Agentic solution.<br/>\n",
        "Finally have 3 third LLM call propose the Agentic AI solution. <br/>\n",
        "We will cover this at up-coming labs, so don't worry if you're unsure.. just give it a try!"
      ],
      "metadata": {
        "id": "i61J9BoGKBfa"
      }
    },
    {
      "cell_type": "code",
      "source": [
        "question_1 = \"Pick a business area that might be worth exploring for an Agentic AI opportunity.\"\n",
        "messages =  [{\"role\": \"user\", \"content\": question_1}]\n",
        "response = openai.chat.completions.create(\n",
        "    model=\"gpt-4o-mini\",\n",
        "    messages=messages,\n",
        ")\n",
        "answer_1 = response.choices[0].message.content\n",
        "print(answer_1)"
      ],
      "metadata": {
        "colab": {
          "base_uri": "https://localhost:8080/"
        },
        "id": "tFtkfnvhKehf",
        "outputId": "2feba3d3-a0e9-4ce0-a5d5-7d208c05398b"
      },
      "execution_count": 31,
      "outputs": [
        {
          "output_type": "stream",
          "name": "stdout",
          "text": [
            "One promising business area for exploring an Agentic AI opportunity is **Healthcare Management**. The integration of Agentic AI in this field could significantly enhance patient care, streamline operations, and improve decision-making processes. Here are some specific applications within this area:\n",
            "\n",
            "1. **Personalized Medicine**: Agentic AI can analyze vast amounts of patient data to recommend personalized treatment plans based on genetic, lifestyle, and environmental factors. This can improve patient outcomes and optimize resource use.\n",
            "\n",
            "2. **Predictive Analytics for Patient Care**: AI can monitor real-time patient data from wearable devices and electronic health records to predict potential health issues before they become critical, enabling proactive interventions.\n",
            "\n",
            "3. **Administrative Automation**: Agentic AI could automate scheduling, billing, and insurance claims processing, allowing healthcare professionals to focus more on patient care rather than administrative tasks.\n",
            "\n",
            "4. **Telehealth and Virtual Assistants**: AI-driven chatbots or virtual health assistants can provide immediate responses to patient inquiries, guide them through symptom assessments, and facilitate remote consultations.\n",
            "\n",
            "5. **Clinical Decision Support Systems**: AI can assist healthcare providers by analyzing clinical data to support diagnosis and treatment recommendations, helping to reduce diagnostic errors and ensure evidence-based practices.\n",
            "\n",
            "6. **Operational Efficiency**: AI can optimize hospital management by predicting patient admissions and managing supply chains efficiently, reducing waste and improving service delivery.\n",
            "\n",
            "7. **Mental Health Support**: AI-driven applications could provide preliminary mental health assessments and offer therapeutic support, improving accessibility for individuals seeking help.\n",
            "\n",
            "By implementing Agentic AI in healthcare management, organizations could not only enhance efficiency and reduce costs but also significantly improve the quality of patient care and outcomes.\n"
          ]
        }
      ]
    },
    {
      "cell_type": "code",
      "source": [
        "question_2 = answer_1 + \"Present a pain-point in the before business area- something challenging that might be ripe for an Agentic solution.\"\n",
        "messages =  [{\"role\": \"user\", \"content\": question_2}]\n",
        "response = openai.chat.completions.create(\n",
        "    model=\"gpt-4o-mini\",\n",
        "    messages=messages,\n",
        ")\n",
        "answer_2 = response.choices[0].message.content\n",
        "print(answer_2)"
      ],
      "metadata": {
        "colab": {
          "base_uri": "https://localhost:8080/"
        },
        "id": "DmLqkyxzLWto",
        "outputId": "bf1bd0de-afa0-46ae-a36b-7f8a9df93d19"
      },
      "execution_count": 33,
      "outputs": [
        {
          "output_type": "stream",
          "name": "stdout",
          "text": [
            "One significant pain point in the healthcare management field that could benefit from an Agentic AI solution is **care coordination among multiple providers**. As healthcare systems become increasingly complex, patients often receive treatment from various specialists, each operating within different practices or hospital systems. This fragmentation can lead to several challenges:\n",
            "\n",
            "### Challenges Associated with Care Coordination:\n",
            "\n",
            "1. **Information Silos**: Patient data is frequently stored in disparate systems, making it difficult for providers to access comprehensive patient information easily. This can hinder effective communication and understanding of the patient's complete medical history.\n",
            "\n",
            "2. **Medication Management**: Patients may receive prescriptions from multiple providers, leading to potential medication errors, drug interactions, or discrepancies in treatment plans. A lack of coordination can increase the risk of adverse events.\n",
            "\n",
            "3. **Conflicting Treatment Plans**: Different specialists may suggest varying treatment modalities based on their assessments, which can confuse patients and lead to non-adherence or conflicting therapies.\n",
            "\n",
            "4. **Emergency Situations**: In an emergency, healthcare providers often lack quick access to critical patient information (e.g., allergies, medications, past surgeries), making it difficult to provide immediate and appropriate care.\n",
            "\n",
            "5. **Patient Disengagement**: Patients may feel lost or overwhelmed with managing their care journey, especially with multiple appointments across different providers. This can lead to frustration, non-compliance with treatment protocols, and adverse health outcomes.\n",
            "\n",
            "### Agentic AI Opportunity:\n",
            "\n",
            "An Agentic AI solution focused on **integrating and coordinating care across providers** could address these challenges in the following ways:\n",
            "\n",
            "- **Centralized Patient Records**: Develop a secure, AI-driven platform that consolidates patient data from various sources, providing a comprehensive view of patient medical history, treatments, and medications accessible by all relevant providers.\n",
            "\n",
            "- **Medication Reconciliation AI**: Implement an AI system that automatically checks and reconciles prescriptions across different providers. This system could flag potential drug interactions and alert healthcare providers of conflicting medications.\n",
            "\n",
            "- **Collaborative Care Plans**: Use AI to facilitate the creation of dynamic, multi-disciplinary care plans that update automatically based on real-time patient feedback and interactions, ensuring all providers are aligned on the patient’s treatment pathway.\n",
            "\n",
            "- **Virtual Care Coordinator**: Introduce an AI-powered virtual care coordinator that engages with patients, reminding them of appointments, consolidating information about their care (including upcoming treatments, referrals, and necessary follow-ups), and serving as a point of contact between different specialists.\n",
            "\n",
            "- **Predictive Analytics for Care Follow-Up**: Use predictive analytics to determine which patients are at higher risk of non-compliance based on their engagement patterns and proactively reaching out to improve adherence to treatment plans.\n",
            "\n",
            "By addressing the pain points of fragmented care coordination, Agentic AI could enhance patient safety, optimize treatment adherence, and provide a cohesive experience across various healthcare services, ultimately improving patient outcomes.\n"
          ]
        }
      ]
    },
    {
      "cell_type": "code",
      "source": [
        "question_3 = answer_2 + \"Propose the Agentic AI solution.\"\n",
        "messages =  [{\"role\": \"user\", \"content\": question_3}]\n",
        "response = openai.chat.completions.create(\n",
        "    model=\"gpt-4o-mini\",\n",
        "    messages=messages,\n",
        ")\n",
        "answer_3 = response.choices[0].message.content\n",
        "print(answer_3)"
      ],
      "metadata": {
        "colab": {
          "base_uri": "https://localhost:8080/"
        },
        "id": "RQHjocFWMLX6",
        "outputId": "c3ba8703-d06e-414c-c775-660de2b70791"
      },
      "execution_count": 34,
      "outputs": [
        {
          "output_type": "stream",
          "name": "stdout",
          "text": [
            "### Proposed Agentic AI Solution: **CareSync AI**\n",
            "\n",
            "**Overview:**\n",
            "CareSync AI is a comprehensive AI-powered platform designed to enhance care coordination among multiple healthcare providers, ultimately improving patient safety, treatment adherence, and overall healthcare outcomes. By consolidating patient information and facilitating real-time collaboration, CareSync AI addresses the pervasive challenges of information silos, medication management, conflicting treatment plans, emergency preparedness, and patient engagement.\n",
            "\n",
            "#### Key Features:\n",
            "\n",
            "1. **Centralized Patient Records:**\n",
            "   - **Data Integration Module:** CareSync AI connects with electronic health record (EHR) systems, practice management software, pharmacy databases, and other relevant patient data sources, aggregating critical information.\n",
            "   - **Patient Profiles:** Each patient will have a comprehensive profile that includes medical history, medication lists, lab results, imaging studies, and treatment plans, accessible by all participating providers.\n",
            "\n",
            "2. **Medication Reconciliation AI:**\n",
            "   - **Real-time Prescription Monitoring:** CareSync AI continuously monitors prescriptions issued by different providers, analyzing for potential interactions or duplications.\n",
            "   - **Alerts and Notifications:** The system sends real-time alerts to healthcare providers when conflicts arise or when medication changes occur, ensuring proactive intervention before adverse events can occur.\n",
            "\n",
            "3. **Collaborative Care Plans:**\n",
            "   - **Dynamic Care Plans:** AI algorithms create multi-disciplinary care plans that adapt based on patient inputs, treatment responses, and provider recommendations, ensuring all providers are on the same page.\n",
            "   - **Care Team Collaboration Hub:** Providers can communicate directly within the platform, sharing updates, discussing treatment options, and adjusting plans based on collaborative insights.\n",
            "\n",
            "4. **Virtual Care Coordinator:**\n",
            "   - **Patient Engagement Assistant:** An AI-powered virtual assistant engages patients through chat or voice notifications, providing reminders about appointments, medication schedules, and follow-up instructions.\n",
            "   - **Resource Consolidation:** The assistant compiles information from various specialists, summarizing care instructions and management plans in an easy-to-understand format for patients.\n",
            "\n",
            "5. **Predictive Analytics for Care Follow-Up:**\n",
            "   - **Risk Stratification:** CareSync AI utilizes predictive analytics to identify patients at risk of non-compliance or adverse health outcomes based on historical data, engagement metrics, and social determinants of health.\n",
            "   - **Proactive Outreach:** The system initiates outreach (e.g., check-in calls, text reminders) to motivate patients who may be struggling and to provide them with personalized support.\n",
            "\n",
            "6. **Emergency Access Features:**\n",
            "   - **Critical Information Access:** In emergency settings, CareSync AI provides first responders with critical patient information instantaneously, including allergies, past medical history, and current medications through an easy-to-access interface.\n",
            "   - **Integration with Emergency Systems:** The platform can interface with emergency medical services (EMS) databases to share pertinent patient data during critical situations.\n",
            "\n",
            "#### Implementation Considerations:\n",
            "\n",
            "- **Patient Consent and Data Security:** CareSync AI adheres to HIPAA and other regulatory requirements, ensuring that patient data is securely stored and shared only with authorized personnel.\n",
            "- **User-Friendly Interface:** The platform will be designed with end-users in mind, featuring intuitive navigation for both healthcare providers and patients to foster high adoption rates.\n",
            "- **Training and Support:** Comprehensive training programs will empower healthcare professionals to effectively utilize CareSync AI and connect with their patients.\n",
            "\n",
            "#### Expected Outcomes:\n",
            "\n",
            "- **Improved Communication and Collaboration:** CareSync AI aims to eliminate information silos, fostering enhanced communication between providers and reducing the risk of conflicting treatment plans.\n",
            "- **Enhanced Patient Safety:** By providing real-time alerts and comprehensive medication management, the solution will significantly reduce medication errors and adverse events.\n",
            "- **Greater Patient Engagement and Satisfaction:** With personalized support and simplified care coordination, patients are more likely to remain engaged in their healthcare journey, improving adherence and health outcomes.\n",
            "- **Efficiency in Healthcare Delivery:** CareSync AI optimizes workflow for healthcare providers, allowing them to spend more time on patient care rather than administrative tasks.\n",
            "\n",
            "By implementing CareSync AI, healthcare organizations can embrace a more integrated approach to care coordination, enhancing the quality of care while reducing complications and inefficiencies throughout the patient journey.\n"
          ]
        }
      ]
    }
  ]
}